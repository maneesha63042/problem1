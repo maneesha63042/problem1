{
 "cells": [
  {
   "cell_type": "code",
   "execution_count": 3,
   "id": "8db3ff91-7873-4aa6-9cb8-6487c915f435",
   "metadata": {},
   "outputs": [
    {
     "name": "stdin",
     "output_type": "stream",
     "text": [
      "enter marks for a subject: 45\n"
     ]
    },
    {
     "name": "stdout",
     "output_type": "stream",
     "text": [
      "subject1 marks: 45\n"
     ]
    },
    {
     "name": "stdin",
     "output_type": "stream",
     "text": [
      "enter marks for a subject: 67\n"
     ]
    },
    {
     "name": "stdout",
     "output_type": "stream",
     "text": [
      "subject2 marks: 67\n"
     ]
    },
    {
     "name": "stdin",
     "output_type": "stream",
     "text": [
      "enter marks for a subject: 78\n"
     ]
    },
    {
     "name": "stdout",
     "output_type": "stream",
     "text": [
      "subject3 marks: 78\n",
      "all subject marks [45, 67, 78]\n",
      "total marks 190\n",
      "average 190.0\n"
     ]
    }
   ],
   "source": [
    "subject_marks=[]\n",
    "def add_subject_marks():\n",
    "    mark=int(input(\"enter marks for a subject:\"))\n",
    "    subject_marks.append(mark)\n",
    "    return mark\n",
    "print(\"subject1 marks:\",add_subject_marks())    \n",
    "print(\"subject2 marks:\",add_subject_marks())\n",
    "print(\"subject3 marks:\",add_subject_marks())\n",
    "print(\"all subject marks\",subject_marks)\n",
    "total=sum(subject_marks)\n",
    "l=len(subject_marks)\n",
    "avg=total/1\n",
    "print(\"total marks\",total)\n",
    "print(\"average\",avg)      "
   ]
  },
  {
   "cell_type": "code",
   "execution_count": null,
   "id": "10d10c1d-b80b-4896-a763-51e79d598164",
   "metadata": {},
   "outputs": [],
   "source": []
  }
 ],
 "metadata": {
  "kernelspec": {
   "display_name": "Python 3 (ipykernel)",
   "language": "python",
   "name": "python3"
  },
  "language_info": {
   "codemirror_mode": {
    "name": "ipython",
    "version": 3
   },
   "file_extension": ".py",
   "mimetype": "text/x-python",
   "name": "python",
   "nbconvert_exporter": "python",
   "pygments_lexer": "ipython3",
   "version": "3.12.7"
  }
 },
 "nbformat": 4,
 "nbformat_minor": 5
}
